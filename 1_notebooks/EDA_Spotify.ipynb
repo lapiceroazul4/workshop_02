{
 "cells": [
  {
   "cell_type": "code",
   "execution_count": 2,
   "metadata": {},
   "outputs": [],
   "source": [
    "from etl import read_csv\n",
    "import pandas as pd\n",
    "import json\n",
    "import seaborn as sns"
   ]
  },
  {
   "cell_type": "markdown",
   "metadata": {},
   "source": [
    "### Extraction"
   ]
  },
  {
   "cell_type": "markdown",
   "metadata": {},
   "source": [
    "#### Reading CSV"
   ]
  },
  {
   "cell_type": "code",
   "execution_count": 3,
   "metadata": {},
   "outputs": [],
   "source": [
    "data = read_csv()\n",
    "json_data = json.loads(data)\n",
    "spotify_df = pd.json_normalize(data=json_data)"
   ]
  },
  {
   "cell_type": "code",
   "execution_count": 4,
   "metadata": {},
   "outputs": [
    {
     "data": {
      "text/html": [
       "<div>\n",
       "<style scoped>\n",
       "    .dataframe tbody tr th:only-of-type {\n",
       "        vertical-align: middle;\n",
       "    }\n",
       "\n",
       "    .dataframe tbody tr th {\n",
       "        vertical-align: top;\n",
       "    }\n",
       "\n",
       "    .dataframe thead th {\n",
       "        text-align: right;\n",
       "    }\n",
       "</style>\n",
       "<table border=\"1\" class=\"dataframe\">\n",
       "  <thead>\n",
       "    <tr style=\"text-align: right;\">\n",
       "      <th></th>\n",
       "      <th>track_id</th>\n",
       "      <th>artists</th>\n",
       "      <th>album_name</th>\n",
       "      <th>track_name</th>\n",
       "      <th>popularity</th>\n",
       "      <th>duration_ms</th>\n",
       "      <th>explicit</th>\n",
       "      <th>danceability</th>\n",
       "      <th>energy</th>\n",
       "      <th>key</th>\n",
       "      <th>loudness</th>\n",
       "      <th>mode</th>\n",
       "      <th>speechiness</th>\n",
       "      <th>acousticness</th>\n",
       "      <th>instrumentalness</th>\n",
       "      <th>liveness</th>\n",
       "      <th>valence</th>\n",
       "      <th>tempo</th>\n",
       "      <th>time_signature</th>\n",
       "      <th>track_genre</th>\n",
       "    </tr>\n",
       "  </thead>\n",
       "  <tbody>\n",
       "    <tr>\n",
       "      <th>0</th>\n",
       "      <td>5SuOikwiRyPMVoIQDJUgSV</td>\n",
       "      <td>Gen Hoshino</td>\n",
       "      <td>Comedy</td>\n",
       "      <td>Comedy</td>\n",
       "      <td>73</td>\n",
       "      <td>230666</td>\n",
       "      <td>False</td>\n",
       "      <td>0.676</td>\n",
       "      <td>0.461</td>\n",
       "      <td>1</td>\n",
       "      <td>-6.746</td>\n",
       "      <td>0</td>\n",
       "      <td>0.1430</td>\n",
       "      <td>0.0322</td>\n",
       "      <td>0.000001</td>\n",
       "      <td>0.358</td>\n",
       "      <td>0.715</td>\n",
       "      <td>87.917</td>\n",
       "      <td>4</td>\n",
       "      <td>acoustic</td>\n",
       "    </tr>\n",
       "    <tr>\n",
       "      <th>1</th>\n",
       "      <td>4qPNDBW1i3p13qLCt0Ki3A</td>\n",
       "      <td>Ben Woodward</td>\n",
       "      <td>Ghost (Acoustic)</td>\n",
       "      <td>Ghost - Acoustic</td>\n",
       "      <td>55</td>\n",
       "      <td>149610</td>\n",
       "      <td>False</td>\n",
       "      <td>0.420</td>\n",
       "      <td>0.166</td>\n",
       "      <td>1</td>\n",
       "      <td>-17.235</td>\n",
       "      <td>1</td>\n",
       "      <td>0.0763</td>\n",
       "      <td>0.9240</td>\n",
       "      <td>0.000006</td>\n",
       "      <td>0.101</td>\n",
       "      <td>0.267</td>\n",
       "      <td>77.489</td>\n",
       "      <td>4</td>\n",
       "      <td>acoustic</td>\n",
       "    </tr>\n",
       "  </tbody>\n",
       "</table>\n",
       "</div>"
      ],
      "text/plain": [
       "                 track_id       artists        album_name        track_name  \\\n",
       "0  5SuOikwiRyPMVoIQDJUgSV   Gen Hoshino            Comedy            Comedy   \n",
       "1  4qPNDBW1i3p13qLCt0Ki3A  Ben Woodward  Ghost (Acoustic)  Ghost - Acoustic   \n",
       "\n",
       "   popularity  duration_ms  explicit  danceability  energy  key  loudness  \\\n",
       "0          73       230666     False         0.676   0.461    1    -6.746   \n",
       "1          55       149610     False         0.420   0.166    1   -17.235   \n",
       "\n",
       "   mode  speechiness  acousticness  instrumentalness  liveness  valence  \\\n",
       "0     0       0.1430        0.0322          0.000001     0.358    0.715   \n",
       "1     1       0.0763        0.9240          0.000006     0.101    0.267   \n",
       "\n",
       "    tempo  time_signature track_genre  \n",
       "0  87.917               4    acoustic  \n",
       "1  77.489               4    acoustic  "
      ]
     },
     "execution_count": 4,
     "metadata": {},
     "output_type": "execute_result"
    }
   ],
   "source": [
    "spotify_df.drop(\"Unnamed: 0\", axis=1, inplace=True)\n",
    "spotify_df.head(2)"
   ]
  },
  {
   "cell_type": "markdown",
   "metadata": {},
   "source": [
    "#### Identifying data types"
   ]
  },
  {
   "cell_type": "code",
   "execution_count": 5,
   "metadata": {},
   "outputs": [
    {
     "data": {
      "text/plain": [
       "track_id             object\n",
       "artists              object\n",
       "album_name           object\n",
       "track_name           object\n",
       "popularity            int64\n",
       "duration_ms           int64\n",
       "explicit               bool\n",
       "danceability        float64\n",
       "energy              float64\n",
       "key                   int64\n",
       "loudness            float64\n",
       "mode                  int64\n",
       "speechiness         float64\n",
       "acousticness        float64\n",
       "instrumentalness    float64\n",
       "liveness            float64\n",
       "valence             float64\n",
       "tempo               float64\n",
       "time_signature        int64\n",
       "track_genre          object\n",
       "dtype: object"
      ]
     },
     "execution_count": 5,
     "metadata": {},
     "output_type": "execute_result"
    }
   ],
   "source": [
    "spotify_df.dtypes"
   ]
  },
  {
   "cell_type": "markdown",
   "metadata": {},
   "source": [
    "####  Dimensions of the dataset"
   ]
  },
  {
   "cell_type": "code",
   "execution_count": 6,
   "metadata": {},
   "outputs": [
    {
     "data": {
      "text/plain": [
       "(114000, 20)"
      ]
     },
     "execution_count": 6,
     "metadata": {},
     "output_type": "execute_result"
    }
   ],
   "source": [
    "spotify_df.shape"
   ]
  },
  {
   "cell_type": "markdown",
   "metadata": {},
   "source": [
    "#### How many null do we have for each variable"
   ]
  },
  {
   "cell_type": "code",
   "execution_count": 7,
   "metadata": {},
   "outputs": [
    {
     "data": {
      "text/plain": [
       "album_name          1\n",
       "track_name          1\n",
       "artists             1\n",
       "track_id            0\n",
       "speechiness         0\n",
       "time_signature      0\n",
       "tempo               0\n",
       "valence             0\n",
       "liveness            0\n",
       "instrumentalness    0\n",
       "acousticness        0\n",
       "loudness            0\n",
       "mode                0\n",
       "key                 0\n",
       "energy              0\n",
       "danceability        0\n",
       "explicit            0\n",
       "duration_ms         0\n",
       "popularity          0\n",
       "track_genre         0\n",
       "dtype: int64"
      ]
     },
     "execution_count": 7,
     "metadata": {},
     "output_type": "execute_result"
    }
   ],
   "source": [
    "(\n",
    "    spotify_df\n",
    "    .isnull()\n",
    "    .sum()\n",
    "    .sort_values(ascending=False)\n",
    ")"
   ]
  },
  {
   "cell_type": "markdown",
   "metadata": {},
   "source": [
    "#### How many duplicate do we have?"
   ]
  },
  {
   "cell_type": "code",
   "execution_count": 24,
   "metadata": {},
   "outputs": [
    {
     "data": {
      "text/plain": [
       "9298"
      ]
     },
     "execution_count": 24,
     "metadata": {},
     "output_type": "execute_result"
    }
   ],
   "source": [
    "duplicados_por_columna = spotify_df.duplicated()\n",
    "duplicados_por_columna.sum()"
   ]
  },
  {
   "cell_type": "markdown",
   "metadata": {},
   "source": [
    "#### Eliminamos las canciones repetidas y dejamos unicamente el primer registro"
   ]
  },
  {
   "cell_type": "code",
   "execution_count": 26,
   "metadata": {},
   "outputs": [],
   "source": [
    "spotify_df = spotify_df.drop_duplicates(keep='first')"
   ]
  },
  {
   "cell_type": "markdown",
   "metadata": {},
   "source": [
    "#### Null's proportion for each variable"
   ]
  },
  {
   "cell_type": "code",
   "execution_count": 9,
   "metadata": {},
   "outputs": [
    {
     "data": {
      "text/plain": [
       "<seaborn.axisgrid.FacetGrid at 0x7fb5022abcd0>"
      ]
     },
     "execution_count": 9,
     "metadata": {},
     "output_type": "execute_result"
    },
    {
     "data": {
      "image/png": "[encoded data removed]",
      "text/plain": [
       "<Figure size 1084.88x500 with 1 Axes>"
      ]
     },
     "metadata": {},
     "output_type": "display_data"
    }
   ],
   "source": [
    "(\n",
    "    spotify_df\n",
    "    .isnull()\n",
    "    .melt(value_name='missing')\n",
    "    .pipe(\n",
    "        lambda df: (\n",
    "            sns.displot(\n",
    "                data=df,\n",
    "                y='variable',\n",
    "                hue='missing',\n",
    "                multiple='fill',\n",
    "                aspect=2\n",
    "            )\n",
    "        )\n",
    "    )\n",
    ")"
   ]
  },
  {
   "cell_type": "markdown",
   "metadata": {},
   "source": [
    "### Transformation Process"
   ]
  },
  {
   "cell_type": "markdown",
   "metadata": {},
   "source": [
    "#### Identifying the different genres we have and agrouping them"
   ]
  },
  {
   "cell_type": "code",
   "execution_count": 10,
   "metadata": {},
   "outputs": [
    {
     "data": {
      "text/plain": [
       "array(['acoustic', 'afrobeat', 'alt-rock', 'alternative', 'ambient',\n",
       "       'anime', 'black-metal', 'bluegrass', 'blues', 'brazil',\n",
       "       'breakbeat', 'british', 'cantopop', 'chicago-house', 'children',\n",
       "       'chill', 'classical', 'club', 'comedy', 'country', 'dance',\n",
       "       'dancehall', 'death-metal', 'deep-house', 'detroit-techno',\n",
       "       'disco', 'disney', 'drum-and-bass', 'dub', 'dubstep', 'edm',\n",
       "       'electro', 'electronic', 'emo', 'folk', 'forro', 'french', 'funk',\n",
       "       'garage', 'german', 'gospel', 'goth', 'grindcore', 'groove',\n",
       "       'grunge', 'guitar', 'happy', 'hard-rock', 'hardcore', 'hardstyle',\n",
       "       'heavy-metal', 'hip-hop', 'honky-tonk', 'house', 'idm', 'indian',\n",
       "       'indie-pop', 'indie', 'industrial', 'iranian', 'j-dance', 'j-idol',\n",
       "       'j-pop', 'j-rock', 'jazz', 'k-pop', 'kids', 'latin', 'latino',\n",
       "       'malay', 'mandopop', 'metal', 'metalcore', 'minimal-techno', 'mpb',\n",
       "       'new-age', 'opera', 'pagode', 'party', 'piano', 'pop-film', 'pop',\n",
       "       'power-pop', 'progressive-house', 'psych-rock', 'punk-rock',\n",
       "       'punk', 'r-n-b', 'reggae', 'reggaeton', 'rock-n-roll', 'rock',\n",
       "       'rockabilly', 'romance', 'sad', 'salsa', 'samba', 'sertanejo',\n",
       "       'show-tunes', 'singer-songwriter', 'ska', 'sleep', 'songwriter',\n",
       "       'soul', 'spanish', 'study', 'swedish', 'synth-pop', 'tango',\n",
       "       'techno', 'trance', 'trip-hop', 'turkish', 'world-music'],\n",
       "      dtype=object)"
      ]
     },
     "execution_count": 10,
     "metadata": {},
     "output_type": "execute_result"
    }
   ],
   "source": [
    "spotify_df[\"track_genre\"].unique()"
   ]
  },
  {
   "cell_type": "markdown",
   "metadata": {},
   "source": [
    "As we can see, there are many genres, this make our analysis complicated, so, I decided to reduce categories by agroupping some of them"
   ]
  },
  {
   "cell_type": "code",
   "execution_count": 11,
   "metadata": {},
   "outputs": [],
   "source": [
    "mapeo_generos = {\n",
    "    \"rock\": \"Rock and similars\",\n",
    "    \"alt-rock\": \"Rock and similars\",\n",
    "    \"alternative\": \"Rock and similars\",\n",
    "    \"grunge\": \"Rock and similars\",\n",
    "    \"punk\": \"Rock and similars\",\n",
    "    \"rockabilly\": \"Rock and similars\",\n",
    "    \"punk-rock\": \"Rock and similars\",\n",
    "    \"hard-rock\": \"Rock and similars\",\n",
    "    \"rock-n-roll\": \"Rock and similars\",\n",
    "    \"psych-rock\": \"Rock and similars\",\n",
    "    \"pop-film\": \"Pop and similars\",\n",
    "    \"power-pop\": \"Pop and similars\",\n",
    "    \"pop\": \"Pop and similars\",\n",
    "    \"pop-rock\": \"Pop and similars\",\n",
    "    \"synth-pop\": \"Pop and similars\",\n",
    "    \"mandopop\": \"Pop and similars\",\n",
    "    \"electronic\": \"Electronic and similars\",\n",
    "    \"techno\": \"Electronic and similars\",\n",
    "    \"detroit-techno\": \"Electronic and similars\",\n",
    "    \"trance\": \"Electronic and similars\",\n",
    "    \"minimal-techno\": \"Electronic and similars\",\n",
    "    \"electro\": \"Electronic and similars\",\n",
    "    \"deep-house\": \"Electronic and similars\",\n",
    "    \"dubstep\": \"Electronic and similars\",\n",
    "    \"house\": \"Electronic and similars\",\n",
    "    \"progressive-house\": \"Electronic and similars\",\n",
    "    \"hip-hop\": \"HipHop and Rap\",\n",
    "    \"afrobeat\": \"HipHop and Rap\",\n",
    "    \"rap\": \"HipHop and Rap\",\n",
    "    \"trip-hop\": \"HipHop and Rap\",   \n",
    "    \"reggae\": \"Reggae and Dancehall\",\n",
    "    \"dancehall\": \"Reggae and Dancehall\",\n",
    "    \"metal\": \"Metal and similars\",\n",
    "    \"black-metal\": \"Metal and similars\",\n",
    "    \"death-metal\": \"Metal and similars\",\n",
    "    \"heavy-metal\": \"Metal and similars\",\n",
    "    \"metalcore\": \"Metal and similars\",\n",
    "    \"jazz\": \"Jazz and Blues\",\n",
    "    \"blues\": \"Jazz and Blues\",\n",
    "    \"classical\": \"Classic Music\",\n",
    "    \"opera\": \"Classic Music\",\n",
    "    \"tango\": \"Classic Music\",\n",
    "    \"acoustic\": \"Classic Music\",\n",
    "    \"piano\": \"Classic Music\",\n",
    "    \"guitar\": \"Classic Music\",\n",
    "    \"latino\": \"Latin Music\",\n",
    "    \"salsa\": \"Latin Music\",\n",
    "    \"samba\": \"Latin Music\",\n",
    "    \"reggaeton\": \"Latin Music\",\n",
    "    \"spanish\": \"Latin Music\",\n",
    "    \"brazil\": \"Latin Music\",\n",
    "    \"ambient\": \"Others\",\n",
    "    \"comedy\": \"Others\",\n",
    "    \"country\": \"Others\",\n",
    "    \"disco\": \"Others\",\n",
    "    \"funk\": \"Others\",\n",
    "    \"gospel\": \"Others\",\n",
    "    \"indie\": \"Others\",\n",
    "    \"indie-pop\": \"Others\",\n",
    "    \"new-age\": \"Others\",\n",
    "    \"rockability\": \"Others\",\n",
    "    \"soul\": \"Others\",\n",
    "    \"songwriter\": \"Others\",\n",
    "    \"drum-and-bass\": \"Others\",\n",
    "    \"bluegrass\": \"Others\",\n",
    "    \"breakbeat\": \"Others\",\n",
    "    \"cantopop\": \"Others\",\n",
    "    \"world-music\": \"Others\",\n",
    "    \"chicago-house\": \"Others\",\n",
    "    \"drum-and-bass\": \"Others\",\n",
    "    \"anime\": \"Special Categories\",\n",
    "    \"children\": \"Special Categories\",\n",
    "    \"disney\": \"Special Categories\",\n",
    "    \"kids\": \"Special Categories\",\n",
    "    \"party\": \"Special Categories\",\n",
    "    \"sad\": \"Special Categories\",\n",
    "    \"sleep\": \"Special Categories\",\n",
    "    \"study\": \"Special Categories\",\n",
    "    \"study\": \"Special Categories\",\n",
    "    \"study\": \"Special Categories\",\n",
    "    \"study\": \"Special Categories\",\n",
    "    \"singer-songwriter\": \"Special Categories\",\n",
    "    \"ska\": \"Special Categories\",\n",
    "    \"show-tunes\": \"Special Categories\",\n",
    "    \"sertanejo\": \"Special Categories\",\n",
    "    \"r-n-b\": \"Special Categories\",\n",
    "    \"pagode\": \"Special Categories\",\n",
    "    \"malay\": \"Special Categories\",\n",
    "    \"mpb\": \"Special Categories\",\n",
    "    \"industrial\": \"Special Categories\",\n",
    "    \"idm\": \"Special Categories\", \n",
    "    \"honky-tonk\": \"Special Categories\",\n",
    "    \"hardstyle\": \"Special Categories\",\n",
    "    \"hardcore\": \"Special Categories\",\n",
    "    \"happy\": \"Special Categories\",\n",
    "    \"groove\": \"Special Categories\",\n",
    "    \"goth\": \"Special Categories\",\n",
    "    \"grindcore\": \"Special Categories\",\n",
    "    \"garage\": \"Special Categories\",\n",
    "    \"garage\": \"Special Categories\",\n",
    "    \"garage\": \"Special Categories\",\n",
    "    \"garage\": \"Special Categories\",\n",
    "    \"emo\": \"Special Categories\",\n",
    "    \"dub\": \"Special Categories\",\n",
    "    \"edm\": \"Special Categories\",\n",
    "    \"forro\": \"Special Categories\",\n",
    "    \"romance\": \"Special Categories\",\n",
    "    \"club\": \"Special Categories\",\n",
    "    \"dance\": \"Special Categories\",\n",
    "    \"folk\": \"Special Categories\",\n",
    "    \"chill\": \"Special Categories\",\n",
    "    \"swedish\": \"European Music\",\n",
    "    \"french\": \"European Music\",\n",
    "    \"turkish\": \"European Music\",\n",
    "    \"iranian\": \"European Music\",\n",
    "    \"german\": \"European Music\",\n",
    "    \"british\": \"European Music\",\n",
    "    \"j-dance\":\"Oriental Music\",\n",
    "    \"j-idol\":\"Oriental Music\",\n",
    "    \"j-pop\":\"Oriental Music\",\n",
    "    \"j-rock\":\"Oriental Music\",\n",
    "    \"k-pop\":\"Oriental Music\",\n",
    "    \"indian\":\"Oriental Music\",\n",
    "    \n",
    "\n",
    "}\n",
    "spotify_df['track_genre'] = spotify_df['track_genre'].replace(mapeo_generos)"
   ]
  },
  {
   "cell_type": "code",
   "execution_count": 12,
   "metadata": {},
   "outputs": [
    {
     "data": {
      "text/plain": [
       "array(['Classic Music', 'HipHop and Rap', 'Rock and similars', 'Others',\n",
       "       'Special Categories', 'Metal and similars', 'Jazz and Blues',\n",
       "       'Latin Music', 'European Music', 'Reggae and Dancehall',\n",
       "       'Electronic and similars', 'Oriental Music', 'latin',\n",
       "       'Pop and similars'], dtype=object)"
      ]
     },
     "execution_count": 12,
     "metadata": {},
     "output_type": "execute_result"
    }
   ],
   "source": [
    "spotify_df[\"track_genre\"].unique()"
   ]
  },
  {
   "cell_type": "markdown",
   "metadata": {},
   "source": [
    "#### Creating a new column where duration is calculated in minutes instead of ms"
   ]
  },
  {
   "cell_type": "code",
   "execution_count": 13,
   "metadata": {},
   "outputs": [
    {
     "data": {
      "text/html": [
       "<div>\n",
       "<style scoped>\n",
       "    .dataframe tbody tr th:only-of-type {\n",
       "        vertical-align: middle;\n",
       "    }\n",
       "\n",
       "    .dataframe tbody tr th {\n",
       "        vertical-align: top;\n",
       "    }\n",
       "\n",
       "    .dataframe thead th {\n",
       "        text-align: right;\n",
       "    }\n",
       "</style>\n",
       "<table border=\"1\" class=\"dataframe\">\n",
       "  <thead>\n",
       "    <tr style=\"text-align: right;\">\n",
       "      <th></th>\n",
       "      <th>track_id</th>\n",
       "      <th>artists</th>\n",
       "      <th>album_name</th>\n",
       "      <th>track_name</th>\n",
       "      <th>popularity</th>\n",
       "      <th>duration_ms</th>\n",
       "      <th>explicit</th>\n",
       "      <th>danceability</th>\n",
       "      <th>energy</th>\n",
       "      <th>key</th>\n",
       "      <th>...</th>\n",
       "      <th>mode</th>\n",
       "      <th>speechiness</th>\n",
       "      <th>acousticness</th>\n",
       "      <th>instrumentalness</th>\n",
       "      <th>liveness</th>\n",
       "      <th>valence</th>\n",
       "      <th>tempo</th>\n",
       "      <th>time_signature</th>\n",
       "      <th>track_genre</th>\n",
       "      <th>duration_min</th>\n",
       "    </tr>\n",
       "  </thead>\n",
       "  <tbody>\n",
       "    <tr>\n",
       "      <th>0</th>\n",
       "      <td>5SuOikwiRyPMVoIQDJUgSV</td>\n",
       "      <td>Gen Hoshino</td>\n",
       "      <td>Comedy</td>\n",
       "      <td>Comedy</td>\n",
       "      <td>73</td>\n",
       "      <td>230666</td>\n",
       "      <td>False</td>\n",
       "      <td>0.676</td>\n",
       "      <td>0.461</td>\n",
       "      <td>1</td>\n",
       "      <td>...</td>\n",
       "      <td>0</td>\n",
       "      <td>0.1430</td>\n",
       "      <td>0.0322</td>\n",
       "      <td>0.000001</td>\n",
       "      <td>0.358</td>\n",
       "      <td>0.715</td>\n",
       "      <td>87.917</td>\n",
       "      <td>4</td>\n",
       "      <td>Classic Music</td>\n",
       "      <td>3.84</td>\n",
       "    </tr>\n",
       "    <tr>\n",
       "      <th>1</th>\n",
       "      <td>4qPNDBW1i3p13qLCt0Ki3A</td>\n",
       "      <td>Ben Woodward</td>\n",
       "      <td>Ghost (Acoustic)</td>\n",
       "      <td>Ghost - Acoustic</td>\n",
       "      <td>55</td>\n",
       "      <td>149610</td>\n",
       "      <td>False</td>\n",
       "      <td>0.420</td>\n",
       "      <td>0.166</td>\n",
       "      <td>1</td>\n",
       "      <td>...</td>\n",
       "      <td>1</td>\n",
       "      <td>0.0763</td>\n",
       "      <td>0.9240</td>\n",
       "      <td>0.000006</td>\n",
       "      <td>0.101</td>\n",
       "      <td>0.267</td>\n",
       "      <td>77.489</td>\n",
       "      <td>4</td>\n",
       "      <td>Classic Music</td>\n",
       "      <td>2.49</td>\n",
       "    </tr>\n",
       "  </tbody>\n",
       "</table>\n",
       "<p>2 rows × 21 columns</p>\n",
       "</div>"
      ],
      "text/plain": [
       "                 track_id       artists        album_name        track_name  \\\n",
       "0  5SuOikwiRyPMVoIQDJUgSV   Gen Hoshino            Comedy            Comedy   \n",
       "1  4qPNDBW1i3p13qLCt0Ki3A  Ben Woodward  Ghost (Acoustic)  Ghost - Acoustic   \n",
       "\n",
       "   popularity  duration_ms  explicit  danceability  energy  key  ...  mode  \\\n",
       "0          73       230666     False         0.676   0.461    1  ...     0   \n",
       "1          55       149610     False         0.420   0.166    1  ...     1   \n",
       "\n",
       "   speechiness  acousticness  instrumentalness  liveness  valence   tempo  \\\n",
       "0       0.1430        0.0322          0.000001     0.358    0.715  87.917   \n",
       "1       0.0763        0.9240          0.000006     0.101    0.267  77.489   \n",
       "\n",
       "   time_signature    track_genre duration_min  \n",
       "0               4  Classic Music         3.84  \n",
       "1               4  Classic Music         2.49  \n",
       "\n",
       "[2 rows x 21 columns]"
      ]
     },
     "execution_count": 13,
     "metadata": {},
     "output_type": "execute_result"
    }
   ],
   "source": [
    "spotify_df['duration_min'] = (spotify_df['duration_ms'] / 60000).round(2) \n",
    "spotify_df.head(2)"
   ]
  },
  {
   "cell_type": "markdown",
   "metadata": {},
   "source": [
    "#### Creating a new column where \"duration\" becomes a categorical variable"
   ]
  },
  {
   "cell_type": "code",
   "execution_count": 14,
   "metadata": {},
   "outputs": [],
   "source": [
    "# Define Limits to create new categories\n",
    "limits = [0, 3, 4, float('inf')]\n",
    "\n",
    "# Setting the name of the new categories\n",
    "labels = ['Poca Duracion', 'Media Duracion', 'Mucha Duracion']\n",
    "\n",
    "# use df.cut() to create the new column\n",
    "spotify_df['duration_category'] = pd.cut(spotify_df['duration_min'], bins=limits, labels=labels, right=False)"
   ]
  },
  {
   "cell_type": "markdown",
   "metadata": {},
   "source": [
    "#### Creating a new column where \"popularity\" becomes a categorical variable"
   ]
  },
  {
   "cell_type": "code",
   "execution_count": 15,
   "metadata": {},
   "outputs": [],
   "source": [
    "# Define Limits to create new categories\n",
    "limits = [0, 30, 60, 100]\n",
    "\n",
    "# Setting the name of the new categories\n",
    "labels = ['Poca Popularidad', 'Media Popularidad', 'Mucha Popularidad']\n",
    "\n",
    "# use df.cut() to create the new columns\n",
    "spotify_df['popularity_category'] = pd.cut(spotify_df['popularity'], bins=limits, labels=labels, right=False)"
   ]
  },
  {
   "cell_type": "code",
   "execution_count": 16,
   "metadata": {},
   "outputs": [
    {
     "data": {
      "text/plain": [
       "Index(['track_id', 'artists', 'album_name', 'track_name', 'popularity',\n",
       "       'duration_ms', 'explicit', 'danceability', 'energy', 'key', 'loudness',\n",
       "       'mode', 'speechiness', 'acousticness', 'instrumentalness', 'liveness',\n",
       "       'valence', 'tempo', 'time_signature', 'track_genre', 'duration_min',\n",
       "       'duration_category', 'popularity_category'],\n",
       "      dtype='object')"
      ]
     },
     "execution_count": 16,
     "metadata": {},
     "output_type": "execute_result"
    }
   ],
   "source": [
    "spotify_df.columns"
   ]
  }
 ],
 "metadata": {
  "kernelspec": {
   "display_name": "Python 3",
   "language": "python",
   "name": "python3"
  },
  "language_info": {
   "codemirror_mode": {
    "name": "ipython",
    "version": 3
   },
   "file_extension": ".py",
   "mimetype": "text/x-python",
   "name": "python",
   "nbconvert_exporter": "python",
   "pygments_lexer": "ipython3",
   "version": "3.8.10"
  },
  "orig_nbformat": 4
 },
 "nbformat": 4,
 "nbformat_minor": 2
}
